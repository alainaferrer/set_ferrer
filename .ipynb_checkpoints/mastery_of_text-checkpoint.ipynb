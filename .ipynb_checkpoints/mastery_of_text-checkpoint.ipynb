{
 "cells": [
  {
   "cell_type": "code",
   "execution_count": 5,
   "id": "238efe3a-3420-41f6-aa36-de062d266019",
   "metadata": {},
   "outputs": [],
   "source": [
    "import urllib "
   ]
  },
  {
   "cell_type": "code",
   "execution_count": null,
   "id": "3d67f701-95ee-4f78-bac8-a49aceca3bae",
   "metadata": {},
   "outputs": [],
   "source": [
    "with urllib.request.urlopen('https://www.gutenberg.org/cache/epub/10/pg10.txt') as bible:\n",
    "     pg10 = bible.read().decode('utf-8')"
   ]
  },
  {
   "cell_type": "code",
   "execution_count": 373,
   "id": "8c65c133-2319-47da-a8cd-af99627fef82",
   "metadata": {},
   "outputs": [
    {
     "name": "stdout",
     "output_type": "stream",
     "text": [
      "99968\n"
     ]
    }
   ],
   "source": [
    "#count lines\n",
    "print (len(pg10.splitlines()))\n",
    "#answer: there are 99,968 lines"
   ]
  },
  {
   "cell_type": "code",
   "execution_count": 375,
   "id": "3055d77c-5299-4851-a509-3d2f4894207f",
   "metadata": {},
   "outputs": [
    {
     "name": "stdout",
     "output_type": "stream",
     "text": [
      "795227\n"
     ]
    }
   ],
   "source": [
    "#make a list containing all words\n",
    "text = pg10\n",
    "words = []\n",
    "current = ''\n",
    "\n",
    "for i in text:\n",
    "    if i.isalpha():\n",
    "        current += i\n",
    "    else:\n",
    "        if len(current)>0:\n",
    "            words.append(current)\n",
    "            current = ''\n",
    " \n",
    "if current:\n",
    "    words.append(current)\n",
    "\n",
    "#count words \n",
    "print(len(words))\n",
    "#answer:there are 795,227 words with alphabet characters"
   ]
  },
  {
   "cell_type": "code",
   "execution_count": 377,
   "id": "2910da26-a0f5-4ae7-b20d-0f8f698745bd",
   "metadata": {},
   "outputs": [
    {
     "name": "stdout",
     "output_type": "stream",
     "text": [
      "47\n"
     ]
    }
   ],
   "source": [
    "#make lowercase version of list of words\n",
    "lowwords=[]\n",
    "for x in words:\n",
    "    lowwords.append(x.lower())\n",
    "\n",
    "#count how many apostles\n",
    "apostlecount = 0\n",
    "for x in lowwords:\n",
    "    if x == \"apostle\":\n",
    "        apostlecount +=1\n",
    "\n",
    "print(apostlecount)\n",
    "#answer: there are 47 occurences of the world \"apostle\""
   ]
  },
  {
   "cell_type": "code",
   "execution_count": 381,
   "id": "340d9e8b-d21f-41bb-a283-8b64cbda9c8b",
   "metadata": {},
   "outputs": [
    {
     "name": "stdout",
     "output_type": "stream",
     "text": [
      "the\n"
     ]
    }
   ],
   "source": [
    "#find most common word\n",
    "#make directory where keys=words and values=count \n",
    "uniquew = {}\n",
    "for x in lowwords:\n",
    "    if x not in uniquew:\n",
    "        uniquew[x] = 1\n",
    "    else:\n",
    "        uniquew[x] += 1\n",
    "\n",
    "values =[]\n",
    "\n",
    "for v in uniquew.values():\n",
    "    num= int(v)\n",
    "    values.append(num)\n",
    "\n",
    "keys= []\n",
    "for k in uniquew.keys():\n",
    "    keys.append(k)\n",
    "\n",
    "maxvalue = values.index(max(values))\n",
    "print (keys[maxvalue])\n",
    "#answer: most common word is \"the\""
   ]
  },
  {
   "cell_type": "code",
   "execution_count": null,
   "id": "53d98c01-0fb8-4f6d-8e09-f06276233a70",
   "metadata": {},
   "outputs": [],
   "source": []
  }
 ],
 "metadata": {
  "kernelspec": {
   "display_name": "Python 3 (ipykernel)",
   "language": "python",
   "name": "python3"
  },
  "language_info": {
   "codemirror_mode": {
    "name": "ipython",
    "version": 3
   },
   "file_extension": ".py",
   "mimetype": "text/x-python",
   "name": "python",
   "nbconvert_exporter": "python",
   "pygments_lexer": "ipython3",
   "version": "3.11.7"
  }
 },
 "nbformat": 4,
 "nbformat_minor": 5
}
